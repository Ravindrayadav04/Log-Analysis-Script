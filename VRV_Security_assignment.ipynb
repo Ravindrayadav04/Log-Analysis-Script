{
  "nbformat": 4,
  "nbformat_minor": 0,
  "metadata": {
    "colab": {
      "provenance": [],
      "authorship_tag": "ABX9TyPU9qZitsBihavh5/vmjyXt"
    },
    "kernelspec": {
      "name": "python3",
      "display_name": "Python 3"
    },
    "language_info": {
      "name": "python"
    }
  },
  "cells": [
    {
      "cell_type": "markdown",
      "source": [
        "Import libraries"
      ],
      "metadata": {
        "id": "ogHd9vEbXNGJ"
      }
    },
    {
      "cell_type": "code",
      "source": [
        "import re # Used for regular expressions to parse and extract information from the log lines\n",
        "import csv # Used for writing the output into a CSV file\n",
        "from collections import defaultdict, Counter #From collections, these provide efficient ways to count and organize data"
      ],
      "metadata": {
        "id": "Kl1I6KlRWEMi"
      },
      "execution_count": 7,
      "outputs": []
    },
    {
      "cell_type": "code",
      "source": [
        "# Configurable threshold for failed login attempts\n",
        "FAILED_LOGIN_THRESHOLD = 10"
      ],
      "metadata": {
        "id": "dmdDswlEZXZh"
      },
      "execution_count": 8,
      "outputs": []
    },
    {
      "cell_type": "markdown",
      "source": [
        "Read the log file as list of line"
      ],
      "metadata": {
        "id": "pkE5bzvaZovE"
      }
    },
    {
      "cell_type": "code",
      "source": [
        "def parse_log_file(file_path):\n",
        "    with open(file_path, 'r') as log_file:\n",
        "        lines = log_file.readlines()\n",
        "    return lines"
      ],
      "metadata": {
        "id": "NJimZCc8Yxjm"
      },
      "execution_count": 9,
      "outputs": []
    },
    {
      "cell_type": "markdown",
      "source": [
        "For extracting Ip address"
      ],
      "metadata": {
        "id": "l6Z7TD6UZzU0"
      }
    },
    {
      "cell_type": "code",
      "source": [
        "def count_requests_per_ip(log_lines):\n",
        "    ip_count = Counter() #Counter to  keeps track of the number of requests for each IP.\n",
        "    for line in log_lines:\n",
        "        match = re.match(r'^(\\S+)', line)\n",
        "        if match:\n",
        "            ip = match.group(1)\n",
        "            ip_count[ip] += 1\n",
        "    return ip_count"
      ],
      "metadata": {
        "id": "Q7AmK2isY15q"
      },
      "execution_count": 10,
      "outputs": []
    },
    {
      "cell_type": "markdown",
      "source": [
        "For accessing Endpoint"
      ],
      "metadata": {
        "id": "S0JAouU8aNwB"
      }
    },
    {
      "cell_type": "code",
      "source": [
        "#Extracts the HTTP method and endpoint (e.g., /home) from the log line using a regex. Counts how many times each endpoint is accessed. Finds the most common endpoint\n",
        "def find_most_accessed_endpoint(log_lines):\n",
        "    endpoint_counts = Counter()\n",
        "    for line in log_lines:\n",
        "        match = re.search(r'\"(GET|POST|PUT|DELETE) (\\S+)', line)\n",
        "        if match:\n",
        "            endpoint = match.group(2)\n",
        "            endpoint_counts[endpoint] += 1\n",
        "    most_accessed = endpoint_counts.most_common(1)\n",
        "    return most_accessed[0] if most_accessed else (\"None\", 0)"
      ],
      "metadata": {
        "id": "eg3929-jY6mc"
      },
      "execution_count": 11,
      "outputs": []
    },
    {
      "cell_type": "markdown",
      "source": [
        "For finding the Suspicious Activity"
      ],
      "metadata": {
        "id": "YK5VlDrIai5f"
      }
    },
    {
      "cell_type": "code",
      "source": [
        "def detect_suspicious_activity(log_lines):\n",
        "    failed_attempts = defaultdict(int)\n",
        "    for line in log_lines:\n",
        "        if '401' in line or \"Invalid credentials\" in line:\n",
        "            match = re.match(r'^(\\S+)', line)\n",
        "            if match:\n",
        "                ip = match.group(1)\n",
        "                failed_attempts[ip] += 1\n",
        "    return {ip: count for ip, count in failed_attempts.items() if count > FAILED_LOGIN_THRESHOLD}"
      ],
      "metadata": {
        "id": "THqRrWeNZAWV"
      },
      "execution_count": 12,
      "outputs": []
    },
    {
      "cell_type": "markdown",
      "source": [
        "For calling all the above functions"
      ],
      "metadata": {
        "id": "XrYj_Xora33p"
      }
    },
    {
      "cell_type": "code",
      "source": [
        "def save_to_csv(ip_requests, most_accessed_endpoint, suspicious_ips, output_file):\n",
        "    with open(output_file, 'w', newline='') as csvfile:\n",
        "        writer = csv.writer(csvfile)\n",
        "\n",
        "        # Write Requests per IP\n",
        "        writer.writerow([\"IP Address\", \"Request Count\"])\n",
        "        for ip, count in ip_requests.items():\n",
        "            writer.writerow([ip, count])\n",
        "\n",
        "        # Write Most Accessed Endpoint\n",
        "        writer.writerow([])\n",
        "        writer.writerow([\"Most Accessed Endpoint\", \"Access Count\"])\n",
        "        writer.writerow([most_accessed_endpoint[0], most_accessed_endpoint[1]])\n",
        "\n",
        "        # Write Suspicious Activity\n",
        "        writer.writerow([])\n",
        "        writer.writerow([\"IP Address\", \"Failed Login Count\"])\n",
        "        for ip, count in suspicious_ips.items():\n",
        "            writer.writerow([ip, count])"
      ],
      "metadata": {
        "id": "9kQySJeXZGYg"
      },
      "execution_count": 13,
      "outputs": []
    },
    {
      "cell_type": "markdown",
      "source": [
        "Main Function"
      ],
      "metadata": {
        "id": "CSI9EE-0bDn4"
      }
    },
    {
      "cell_type": "code",
      "source": [
        "#Main Function\n",
        "def main():\n",
        "    # File paths\n",
        "    log_file_path = \"sample_log.txt\"  # Replace with the actual file path\n",
        "    output_csv_file = \"log_analysis_results.csv\"\n",
        "\n",
        "    # Parse log file\n",
        "    log_lines = parse_log_file(log_file_path)\n",
        "\n",
        "    # Perform analysis\n",
        "    ip_requests = count_requests_per_ip(log_lines)\n",
        "    most_accessed_endpoint = find_most_accessed_endpoint(log_lines)\n",
        "    suspicious_ips = detect_suspicious_activity(log_lines)\n",
        "\n",
        "    # Print results\n",
        "    print(\"Requests per IP Address:\")\n",
        "    for ip, count in ip_requests.items():\n",
        "        print(f\"{ip} - {count}\")\n",
        "\n",
        "    print(\"\\nMost Frequently Accessed Endpoint:\")\n",
        "    print(f\"{most_accessed_endpoint[0]} (Accessed {most_accessed_endpoint[1]} times)\")\n",
        "\n",
        "    print(\"\\nSuspicious Activity Detected:\")\n",
        "    for ip, count in suspicious_ips.items():\n",
        "        print(f\"{ip} - {count} failed login attempts\")\n",
        "\n",
        "    # Save results to CSV\n",
        "    save_to_csv(ip_requests, most_accessed_endpoint, suspicious_ips, output_csv_file)\n",
        "    print(f\"\\nResults saved to {output_csv_file}\")\n",
        "\n",
        "if __name__ == \"__main__\":\n",
        "    main()\n"
      ],
      "metadata": {
        "colab": {
          "base_uri": "https://localhost:8080/"
        },
        "id": "guTTFebHZMcJ",
        "outputId": "f8be49c9-c49f-4a05-f3eb-a2230dc24069"
      },
      "execution_count": 14,
      "outputs": [
        {
          "output_type": "stream",
          "name": "stdout",
          "text": [
            "Requests per IP Address:\n",
            "192.168.1.1 - 7\n",
            "203.0.113.5 - 8\n",
            "10.0.0.2 - 6\n",
            "198.51.100.23 - 8\n",
            "192.168.1.100 - 5\n",
            "\n",
            "Most Frequently Accessed Endpoint:\n",
            "/login (Accessed 13 times)\n",
            "\n",
            "Suspicious Activity Detected:\n",
            "\n",
            "Results saved to log_analysis_results.csv\n"
          ]
        }
      ]
    }
  ]
}